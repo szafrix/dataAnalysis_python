{
 "cells": [
  {
   "cell_type": "code",
   "execution_count": null,
   "metadata": {},
   "outputs": [],
   "source": [
    "#loading library with the iris dataset\n",
    "from sklearn.datasets import load_iris\n",
    "from sklearn.ensemble import RandomForestClassifier\n",
    "import pandas as pd\n",
    "import numpy as np\n",
    "#setting random seed\n",
    "np.random.seed(0)\n",
    "\n",
    "iris = load_iris()\n",
    "df = pd.DataFrame(iris.data, columns=iris.feature_names)\n",
    "print(df.head())\n",
    "\n",
    "#adding a new column for species name\n",
    "#formula bierze zakodowane nazwy i laczy je z nazwami\n",
    "df['species'] = pd.Categorical.from_codes(iris.target,\n",
    "  iris.target_names)\n",
    "\n",
    "print(df.head())\n",
    "\n",
    "#creating Test and Train data\n",
    "#hacker style\n",
    "df['is_train'] = np.random.uniform(0, 1, len(df)) <= 0.75\n",
    "train, test = df[df['is_train'] == True], df[df['is_train'] == False]\n",
    "#show the number of observations for the test and training dataframes\n",
    "print(\"number of observations for the training is\", len(train))\n",
    "print(\"number of observations for the test is\", len(test))\n",
    "\n",
    "features = df.columns[:4]\n",
    "\n",
    "#converting each species name into digits\n",
    "y = pd.factorize(train['species'])[0]\n",
    "print(y)\n",
    "\n",
    "#creating a random forest classifier\n",
    "clf = RandomForestClassifier(n_jobs=2, random_state=0)\n",
    "# training the classifier\n",
    "clf.fit(train[features], y)\n",
    "print(clf.predict(test[features]))\n",
    "#viewing the predicted probabilities of the first 10 observations\n",
    "print(clf.predict_proba(test[features])[10:20])\n",
    "\n",
    "#mapping names for the plants for each predicted plant class\n",
    "preds = iris.target_names[clf.predict(test[features])]\n",
    "#view the prediced species for the first five observations\n",
    "print(preds[0:5])\n",
    "\n",
    "#creating confusion matrix\n",
    "print(pd.crosstab(test['species'], preds, rownames=['ActualSpecies'], colnames=['PredictedSpecies']))"
   ]
  }
 ],
 "metadata": {
  "kernelspec": {
   "display_name": "Python 3",
   "language": "python",
   "name": "python3"
  },
  "language_info": {
   "codemirror_mode": {
    "name": "ipython",
    "version": 3
   },
   "file_extension": ".py",
   "mimetype": "text/x-python",
   "name": "python",
   "nbconvert_exporter": "python",
   "pygments_lexer": "ipython3",
   "version": "3.7.4"
  }
 },
 "nbformat": 4,
 "nbformat_minor": 2
}
